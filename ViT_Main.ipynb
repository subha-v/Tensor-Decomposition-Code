{
  "nbformat": 4,
  "nbformat_minor": 0,
  "metadata": {
    "colab": {
      "provenance": [],
      "mount_file_id": "1wUNItnkygW9nwEiua0pvJUBXIR8gFlJF",
      "authorship_tag": "ABX9TyPh9yZ/LNnwRBd/cSCeB+WP"
    },
    "kernelspec": {
      "name": "python3",
      "display_name": "Python 3"
    },
    "language_info": {
      "name": "python"
    }
  },
  "cells": [
    {
      "cell_type": "code",
      "source": [
        "!pip install transformers[torch] accelerate>=0.20.1\n",
        "!pip install datasets\n",
        "!pip install tensorlearn"
      ],
      "metadata": {
        "id": "R36bhqkiYcgJ"
      },
      "execution_count": null,
      "outputs": []
    },
    {
      "cell_type": "code",
      "source": [
        "cd /content/drive/MyDrive/UCSB 2023/Code/ViT"
      ],
      "metadata": {
        "id": "WzfxxQJSW978",
        "colab": {
          "base_uri": "https://localhost:8080/"
        },
        "outputId": "3b072262-17f8-4e7f-ed15-6c03fd9c0f26"
      },
      "execution_count": 2,
      "outputs": [
        {
          "output_type": "stream",
          "name": "stdout",
          "text": [
            "/content/drive/MyDrive/UCSB 2023/Code/ViT\n"
          ]
        }
      ]
    },
    {
      "cell_type": "code",
      "execution_count": null,
      "metadata": {
        "id": "VnLsOHO9YQb9"
      },
      "outputs": [],
      "source": [
        "from utils.dataset import *\n",
        "from utils.methods import *\n",
        "from utils.weights import *\n",
        "from retrainModel import *\n",
        "from iterativeCompression import *"
      ]
    },
    {
      "cell_type": "code",
      "source": [
        "model = default_model\n",
        "num_layers = 99\n",
        "accuracies = []\n",
        "list_of_layers = []\n",
        "j=0"
      ],
      "metadata": {
        "id": "WTHG-FMGmrr-"
      },
      "execution_count": 7,
      "outputs": []
    },
    {
      "cell_type": "code",
      "source": [
        "prepared_ds = create_vit_dataset_for_training()"
      ],
      "metadata": {
        "id": "oMkDRnxLD5KX"
      },
      "execution_count": 8,
      "outputs": []
    },
    {
      "cell_type": "code",
      "source": [
        "for i in range (0,2):\n",
        "    loaded_layers, loaded_layer_names = create_and_save_weights_vit(model, f\"/content/weights_{i}/\")\n",
        "\n",
        "    # We use i to keep track of the folder number\n",
        "    # Fully decomposing the model\n",
        "\n",
        "    reshape_and_save_weights(model, num_layers, loaded_layers, loaded_layer_names, i)\n",
        "    fully_decomposed_model = iteratively_decompose(model, num_layers, i, loaded_layer_names)\n",
        "\n",
        "    # Decompose weights until the accuracy goes below 80%\n",
        "    low_accuracy_model = iterative_compression_with_threshold(model, num_layers, list_of_layers, 0.9, loaded_layer_names, i)\n",
        "\n",
        "    # Retraining the model to regain accuracy\n",
        "    model = retrain_vit_model(low_accuracy_model, prepared_ds, 0.2)"
      ],
      "metadata": {
        "id": "XBMjFXk-GPrj"
      },
      "execution_count": null,
      "outputs": []
    }
  ]
}